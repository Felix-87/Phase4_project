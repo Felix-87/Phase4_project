{
 "cells": [
  {
   "cell_type": "markdown",
   "metadata": {},
   "source": [
    "## Phase 4 Project Submission\n",
    "### Student name: Felix Limo.\n",
    "### Student pace: Part Time-DS-PT08.\n",
    "### Scheduled project review date/time:\n",
    "### Instructor names: Samuel Karu & Daniel Ekale."
   ]
  },
  {
   "cell_type": "markdown",
   "metadata": {},
   "source": [
    "# 1.0 Introduction\n",
    "\n",
    "This project involves analysis of movies data to build a recommendation system model that provides diverse options and accurate recommendations to customers that improves their shopping experience and increase engagement with shop catalogs, subsequently increasing sales. The research follows cross industry standard procedures (CRISP-DM) methodlogy fo the movies industry."
   ]
  },
  {
   "cell_type": "markdown",
   "metadata": {},
   "source": [
    "# 2.0 Business Understanding\n",
    "\n",
    "In the midst of modern business competion,the new film shop purposes to increase its customer interaction by providing personalized recommendations of individual films. This recommendation system will be important for improvement in customer experience, increase customer engagement and driving sale. By offering personal suggestions based on customers' preferences, previous behavior and film ratings, the shop expects to increase customer engagement, increase sales and improve customer retention.\n",
    "\n",
    "# 2.1 Objective\n",
    "\n",
    "The research mainly aims at developing a movie recommendation system, which would be helpful in recommending other similar movies to customers depending on the preference that a customer may have for a particular movie. A customer interested in a particular movie-he asks questions about it or looks at it in a catalog-the system should suggest other movies similar to the target movie. "
   ]
  },
  {
   "cell_type": "markdown",
   "metadata": {},
   "source": [
    "# 3.0 The Data\n",
    "The dataset for modelling was drawn from https://grouplens.org/datasets/movielens/latest/.\n",
    "Merged dataset contains 100,000 ratings and 3,600 tag applications applied to 9,000 movies by 600 users.\n",
    "\n",
    "### Content\n",
    "\n",
    "* **userId:** Unique identifier for the user.\n",
    "\n",
    "* **movieId:** Unique identifier  for movie.\n",
    "\n",
    "* **rating:** Ratings given by the user to the movie.\n",
    "\n",
    "* **timestamp:** Time at which the rating was given by user.\n",
    "\n",
    "* **title:** Name of the movie.\n",
    "\n",
    "* **genres:** The genres for which movies belong.\n",
    "\n",
    "* **tag:** A glimpse of what the movie is about or like.\n"
   ]
  },
  {
   "cell_type": "markdown",
   "metadata": {},
   "source": [
    "# 3.1 Data Understanding \n",
    "\n",
    "## Data Preview\n",
    "\n",
    "This is important  as it provides a snapshot of the type of information contained in the dataset for analysis."
   ]
  },
  {
   "cell_type": "markdown",
   "metadata": {},
   "source": [
    "### Import relevant python libraries"
   ]
  },
  {
   "cell_type": "code",
   "execution_count": 1,
   "metadata": {},
   "outputs": [],
   "source": [
    "import pandas as pd\n",
    "import numpy as np\n",
    "import matplotlib.pyplot as plt\n",
    "import seaborn as sns\n",
    "import warnings\n",
    "warnings.filterwarnings('ignore')"
   ]
  },
  {
   "cell_type": "markdown",
   "metadata": {},
   "source": [
    "### Loading of the MovieLens datasets for preview"
   ]
  },
  {
   "cell_type": "code",
   "execution_count": 2,
   "metadata": {},
   "outputs": [],
   "source": [
    "links = pd.read_csv(\"links.csv\")\n",
    "movies = pd.read_csv(\"movies.csv\")\n",
    "ratings = pd.read_csv(\"ratings.csv\")\n",
    "tags = pd.read_csv(\"tags.csv\")"
   ]
  },
  {
   "cell_type": "code",
   "execution_count": 3,
   "metadata": {},
   "outputs": [
    {
     "name": "stdout",
     "output_type": "stream",
     "text": [
      "Links dataset first 3 records \n",
      "    movieId  imdbId   tmdbId\n",
      "0        1  114709    862.0\n",
      "1        2  113497   8844.0\n",
      "2        3  113228  15602.0 \n",
      "------------\n",
      "Movies dataset first 3 records \n",
      "     movieId                    title  \\\n",
      "0        1         Toy Story (1995)   \n",
      "1        2           Jumanji (1995)   \n",
      "2        3  Grumpier Old Men (1995)   \n",
      "\n",
      "                                        genres  \n",
      "0  Adventure|Animation|Children|Comedy|Fantasy  \n",
      "1                   Adventure|Children|Fantasy  \n",
      "2                               Comedy|Romance  \n",
      "------------\n",
      "Ratings dataset first 3 records \n",
      "     userId  movieId  rating  timestamp\n",
      "0       1        1     4.0  964982703\n",
      "1       1        3     4.0  964981247\n",
      "2       1        6     4.0  964982224\n",
      "------------\n",
      "Tags dataset first 3 records \n",
      "     userId  movieId              tag   timestamp\n",
      "0       2    60756            funny  1445714994\n",
      "1       2    60756  Highly quotable  1445714996\n",
      "2       2    60756     will ferrell  1445714992\n"
     ]
    }
   ],
   "source": [
    "print(f'Links dataset first 3 records \\n {links.head(3)} ' )\n",
    "print('------------')\n",
    "print(f'Movies dataset first 3 records \\n  {movies.head(3)}' )\n",
    "print('------------')\n",
    "print(f'Ratings dataset first 3 records \\n  {ratings.head(3)}' )\n",
    "print('------------')\n",
    "print(f'Tags dataset first 3 records \\n  {tags.head(3)}' )"
   ]
  },
  {
   "cell_type": "markdown",
   "metadata": {},
   "source": [
    "### *Observations*\n",
    "\n",
    "*  Movies, Ratings and Tags datasets will be merged to form data enriched dataset for analysis. Merging criteria on *movieId* with an *inner joint*.\n",
    "\n",
    "* Links datasets only contains unique identifies (IDs) and may not be useful for this study, thus will not be utilized."
   ]
  },
  {
   "cell_type": "code",
   "execution_count": 4,
   "metadata": {},
   "outputs": [
    {
     "data": {
      "text/html": [
       "<div>\n",
       "<style scoped>\n",
       "    .dataframe tbody tr th:only-of-type {\n",
       "        vertical-align: middle;\n",
       "    }\n",
       "\n",
       "    .dataframe tbody tr th {\n",
       "        vertical-align: top;\n",
       "    }\n",
       "\n",
       "    .dataframe thead th {\n",
       "        text-align: right;\n",
       "    }\n",
       "</style>\n",
       "<table border=\"1\" class=\"dataframe\">\n",
       "  <thead>\n",
       "    <tr style=\"text-align: right;\">\n",
       "      <th></th>\n",
       "      <th>userId_x</th>\n",
       "      <th>movieId</th>\n",
       "      <th>rating</th>\n",
       "      <th>timestamp_x</th>\n",
       "      <th>title</th>\n",
       "      <th>genres</th>\n",
       "      <th>userId_y</th>\n",
       "      <th>tag</th>\n",
       "      <th>timestamp_y</th>\n",
       "    </tr>\n",
       "  </thead>\n",
       "  <tbody>\n",
       "    <tr>\n",
       "      <th>0</th>\n",
       "      <td>1</td>\n",
       "      <td>1</td>\n",
       "      <td>4.0</td>\n",
       "      <td>964982703</td>\n",
       "      <td>Toy Story (1995)</td>\n",
       "      <td>Adventure|Animation|Children|Comedy|Fantasy</td>\n",
       "      <td>336</td>\n",
       "      <td>pixar</td>\n",
       "      <td>1139045764</td>\n",
       "    </tr>\n",
       "    <tr>\n",
       "      <th>1</th>\n",
       "      <td>1</td>\n",
       "      <td>1</td>\n",
       "      <td>4.0</td>\n",
       "      <td>964982703</td>\n",
       "      <td>Toy Story (1995)</td>\n",
       "      <td>Adventure|Animation|Children|Comedy|Fantasy</td>\n",
       "      <td>474</td>\n",
       "      <td>pixar</td>\n",
       "      <td>1137206825</td>\n",
       "    </tr>\n",
       "    <tr>\n",
       "      <th>2</th>\n",
       "      <td>1</td>\n",
       "      <td>1</td>\n",
       "      <td>4.0</td>\n",
       "      <td>964982703</td>\n",
       "      <td>Toy Story (1995)</td>\n",
       "      <td>Adventure|Animation|Children|Comedy|Fantasy</td>\n",
       "      <td>567</td>\n",
       "      <td>fun</td>\n",
       "      <td>1525286013</td>\n",
       "    </tr>\n",
       "    <tr>\n",
       "      <th>3</th>\n",
       "      <td>5</td>\n",
       "      <td>1</td>\n",
       "      <td>4.0</td>\n",
       "      <td>847434962</td>\n",
       "      <td>Toy Story (1995)</td>\n",
       "      <td>Adventure|Animation|Children|Comedy|Fantasy</td>\n",
       "      <td>336</td>\n",
       "      <td>pixar</td>\n",
       "      <td>1139045764</td>\n",
       "    </tr>\n",
       "    <tr>\n",
       "      <th>4</th>\n",
       "      <td>5</td>\n",
       "      <td>1</td>\n",
       "      <td>4.0</td>\n",
       "      <td>847434962</td>\n",
       "      <td>Toy Story (1995)</td>\n",
       "      <td>Adventure|Animation|Children|Comedy|Fantasy</td>\n",
       "      <td>474</td>\n",
       "      <td>pixar</td>\n",
       "      <td>1137206825</td>\n",
       "    </tr>\n",
       "  </tbody>\n",
       "</table>\n",
       "</div>"
      ],
      "text/plain": [
       "   userId_x  movieId  rating  timestamp_x             title  \\\n",
       "0         1        1     4.0    964982703  Toy Story (1995)   \n",
       "1         1        1     4.0    964982703  Toy Story (1995)   \n",
       "2         1        1     4.0    964982703  Toy Story (1995)   \n",
       "3         5        1     4.0    847434962  Toy Story (1995)   \n",
       "4         5        1     4.0    847434962  Toy Story (1995)   \n",
       "\n",
       "                                        genres  userId_y    tag  timestamp_y  \n",
       "0  Adventure|Animation|Children|Comedy|Fantasy       336  pixar   1139045764  \n",
       "1  Adventure|Animation|Children|Comedy|Fantasy       474  pixar   1137206825  \n",
       "2  Adventure|Animation|Children|Comedy|Fantasy       567    fun   1525286013  \n",
       "3  Adventure|Animation|Children|Comedy|Fantasy       336  pixar   1139045764  \n",
       "4  Adventure|Animation|Children|Comedy|Fantasy       474  pixar   1137206825  "
      ]
     },
     "execution_count": 4,
     "metadata": {},
     "output_type": "execute_result"
    }
   ],
   "source": [
    "#Merge movie and ratings datasets on movieId with an inner joint and assign movie_ratings\n",
    "movie_ratings = pd.merge(ratings,movies, on='movieId', how='inner')\n",
    "\n",
    "#Merge the resultant movie_ratings with tags on movieId with inner joint and assign movie_rating_tags\n",
    "movie_rating_tags = pd.merge(movie_ratings, tags, on=['movieId'], how='inner')\n",
    "\n",
    "#Remove duplicates if any\n",
    "movie_rating_tags = movie_rating_tags.drop_duplicates()\n",
    "\n",
    "#Check the first 5 rows of the merged dataset\n",
    "movie_rating_tags.head()"
   ]
  },
  {
   "cell_type": "code",
   "execution_count": 5,
   "metadata": {},
   "outputs": [
    {
     "name": "stdout",
     "output_type": "stream",
     "text": [
      "<class 'pandas.core.frame.DataFrame'>\n",
      "RangeIndex: 233213 entries, 0 to 233212\n",
      "Data columns (total 9 columns):\n",
      " #   Column       Non-Null Count   Dtype  \n",
      "---  ------       --------------   -----  \n",
      " 0   userId_x     233213 non-null  int64  \n",
      " 1   movieId      233213 non-null  int64  \n",
      " 2   rating       233213 non-null  float64\n",
      " 3   timestamp_x  233213 non-null  int64  \n",
      " 4   title        233213 non-null  object \n",
      " 5   genres       233213 non-null  object \n",
      " 6   userId_y     233213 non-null  int64  \n",
      " 7   tag          233213 non-null  object \n",
      " 8   timestamp_y  233213 non-null  int64  \n",
      "dtypes: float64(1), int64(5), object(3)\n",
      "memory usage: 16.0+ MB\n"
     ]
    }
   ],
   "source": [
    "#Check merged dataset info\n",
    "movie_rating_tags.info()"
   ]
  },
  {
   "cell_type": "markdown",
   "metadata": {},
   "source": [
    "### *Observations*\n",
    "* The dataset has 233213 rows and 9 columns, although there,s duplication of columns (userId & timestamp).\n",
    "* It has 6 numerical features and 3 object features.\n",
    "* Dataset has equal number of non_null counts in all columns, indicates that there are no missing values.\n",
    "* Contains movieId and userId making the dataset suitable for building recommendation system(user-based and content-based)."
   ]
  },
  {
   "cell_type": "markdown",
   "metadata": {},
   "source": [
    "# 3.2 Problem Statement\n",
    "\n",
    "A new movie shop opens a branch in a new town with an aim to invent better interaction with customers by offering personalized movie recommendations. The company aims to recommend movies in which the customers have shown interest, liked, or even inquired about. This customized service will expose the customer to films they might not have considered but will likely enjoy based on the films they browse or inquire about. It would, therefore, be able to provide personalized recommendations through customer data on movie preference, past queries, and behavior to enhance customer experience, thereby commanding high satisfaction, loyalty, and repeat visits.\n",
    "\n",
    "### General Objective\n",
    "\n",
    "* To build a model that provides top 5 movie recommendations to a user, based on their ratings of other movies.\n",
    "\n",
    "### Specific Objectives\n",
    "\n",
    "* **Personalized Recommendations:** Build a system that will be able to recommend movies based on what customers have done, liked, or searched.\n",
    "* **Enhanced Discovery:** Help customers discover movies that they may have never considered but might like and thus increase their tastes and knowledge of films.\n",
    "* **Customer Engagement:** Incentivize customers to spend more time on the website with value-added recommendations relevant to their interests.\n",
    "* **Increased Sales and Retention:** Personalized suggestions will increase sales and improve customer retention, as they will revisit your site for more and remain longer-term.\n",
    "* **Enhanced User Experience:** Facilitate an easy and smooth recommendation experience for your customers.\n",
    "\n",
    "\n",
    "# 3.3 Metrics of success\n",
    "\n",
    "This project will be deemed successful if the built models will be able to predict top 5 movie recommendations to a user, based on their ratings of other movies.\n"
   ]
  },
  {
   "cell_type": "markdown",
   "metadata": {},
   "source": [
    "# 4.0 Data Preparation\n",
    "\n",
    "## 4.1 Data Cleaning\n",
    "\n",
    "Involves checking and removal of duplicates,checking for missing values and mitigation, and feature engineering.\n",
    "\n",
    "Dataset preview revealed duplicated columns and non-uniform feature naming. Therefore, all feature names will be converted to lowercase and remove the duplicated columns(userId_y, timestamp_y). Subsequently, rename 'userId_x' and 'timestamp_x' features to remove the suffixes."
   ]
  },
  {
   "cell_type": "code",
   "execution_count": 6,
   "metadata": {},
   "outputs": [
    {
     "name": "stdout",
     "output_type": "stream",
     "text": [
      "Duplicates: \n",
      "......\n",
      "0\n",
      "Missing values: \n",
      "....... \n",
      " userId_x       0\n",
      "movieId        0\n",
      "rating         0\n",
      "timestamp_x    0\n",
      "title          0\n",
      "genres         0\n",
      "userId_y       0\n",
      "tag            0\n",
      "timestamp_y    0\n",
      "dtype: int64\n"
     ]
    }
   ],
   "source": [
    "#Check for duplicates if any and print out\n",
    "print(f'Duplicates: \\n......\\n{movie_rating_tags.duplicated().sum()}')\n",
    "#Check for missing values duplicates if any and print out\n",
    "print(f'Missing values: \\n....... \\n {movie_rating_tags.isna().sum()}')"
   ]
  },
  {
   "cell_type": "markdown",
   "metadata": {},
   "source": [
    "### Observation\n",
    "\n",
    "There are no duplicated rows and  no missing values in all columns. Further cleaning to ensure uniformity and feature selection."
   ]
  },
  {
   "cell_type": "code",
   "execution_count": 7,
   "metadata": {},
   "outputs": [],
   "source": [
    "#Remove 'userId_y' and 'timestap' features\n",
    "movie_rating_tags = movie_rating_tags.drop([\"userId_y\",\"timestamp_x\",\"timestamp_y\"], axis=1)\n",
    "#Rename 'userId_x' as 'userid' \n",
    "movie_rating_tags = movie_rating_tags.rename(columns={\"userId_x\": \"userid\", \"timestamp_x\": \"timestamp\"})\n",
    "#Convert feature lowercase for uniformity\n",
    "movie_rating_tags.columns = movie_rating_tags.columns.str.strip().str.lower()\n",
    "#Remove duplicates if any\n",
    "movie_rating_tags = movie_rating_tags.drop_duplicates() "
   ]
  },
  {
   "cell_type": "markdown",
   "metadata": {},
   "source": [
    "### 4.1.1  Save cleaned dataset to df"
   ]
  },
  {
   "cell_type": "code",
   "execution_count": 8,
   "metadata": {},
   "outputs": [],
   "source": [
    "#Making a copy of cleaned dataset and save as df\n",
    "df = movie_rating_tags.copy(deep=True)\n"
   ]
  },
  {
   "cell_type": "markdown",
   "metadata": {},
   "source": [
    "Preview the clean data set."
   ]
  },
  {
   "cell_type": "code",
   "execution_count": 9,
   "metadata": {},
   "outputs": [
    {
     "data": {
      "text/html": [
       "<div>\n",
       "<style scoped>\n",
       "    .dataframe tbody tr th:only-of-type {\n",
       "        vertical-align: middle;\n",
       "    }\n",
       "\n",
       "    .dataframe tbody tr th {\n",
       "        vertical-align: top;\n",
       "    }\n",
       "\n",
       "    .dataframe thead th {\n",
       "        text-align: right;\n",
       "    }\n",
       "</style>\n",
       "<table border=\"1\" class=\"dataframe\">\n",
       "  <thead>\n",
       "    <tr style=\"text-align: right;\">\n",
       "      <th></th>\n",
       "      <th>userid</th>\n",
       "      <th>movieid</th>\n",
       "      <th>rating</th>\n",
       "      <th>title</th>\n",
       "      <th>genres</th>\n",
       "      <th>tag</th>\n",
       "    </tr>\n",
       "  </thead>\n",
       "  <tbody>\n",
       "    <tr>\n",
       "      <th>0</th>\n",
       "      <td>1</td>\n",
       "      <td>1</td>\n",
       "      <td>4.0</td>\n",
       "      <td>Toy Story (1995)</td>\n",
       "      <td>Adventure|Animation|Children|Comedy|Fantasy</td>\n",
       "      <td>pixar</td>\n",
       "    </tr>\n",
       "    <tr>\n",
       "      <th>2</th>\n",
       "      <td>1</td>\n",
       "      <td>1</td>\n",
       "      <td>4.0</td>\n",
       "      <td>Toy Story (1995)</td>\n",
       "      <td>Adventure|Animation|Children|Comedy|Fantasy</td>\n",
       "      <td>fun</td>\n",
       "    </tr>\n",
       "    <tr>\n",
       "      <th>3</th>\n",
       "      <td>5</td>\n",
       "      <td>1</td>\n",
       "      <td>4.0</td>\n",
       "      <td>Toy Story (1995)</td>\n",
       "      <td>Adventure|Animation|Children|Comedy|Fantasy</td>\n",
       "      <td>pixar</td>\n",
       "    </tr>\n",
       "    <tr>\n",
       "      <th>5</th>\n",
       "      <td>5</td>\n",
       "      <td>1</td>\n",
       "      <td>4.0</td>\n",
       "      <td>Toy Story (1995)</td>\n",
       "      <td>Adventure|Animation|Children|Comedy|Fantasy</td>\n",
       "      <td>fun</td>\n",
       "    </tr>\n",
       "    <tr>\n",
       "      <th>6</th>\n",
       "      <td>7</td>\n",
       "      <td>1</td>\n",
       "      <td>4.5</td>\n",
       "      <td>Toy Story (1995)</td>\n",
       "      <td>Adventure|Animation|Children|Comedy|Fantasy</td>\n",
       "      <td>pixar</td>\n",
       "    </tr>\n",
       "  </tbody>\n",
       "</table>\n",
       "</div>"
      ],
      "text/plain": [
       "   userid  movieid  rating             title  \\\n",
       "0       1        1     4.0  Toy Story (1995)   \n",
       "2       1        1     4.0  Toy Story (1995)   \n",
       "3       5        1     4.0  Toy Story (1995)   \n",
       "5       5        1     4.0  Toy Story (1995)   \n",
       "6       7        1     4.5  Toy Story (1995)   \n",
       "\n",
       "                                        genres    tag  \n",
       "0  Adventure|Animation|Children|Comedy|Fantasy  pixar  \n",
       "2  Adventure|Animation|Children|Comedy|Fantasy    fun  \n",
       "3  Adventure|Animation|Children|Comedy|Fantasy  pixar  \n",
       "5  Adventure|Animation|Children|Comedy|Fantasy    fun  \n",
       "6  Adventure|Animation|Children|Comedy|Fantasy  pixar  "
      ]
     },
     "execution_count": 9,
     "metadata": {},
     "output_type": "execute_result"
    }
   ],
   "source": [
    "df.head()"
   ]
  },
  {
   "cell_type": "markdown",
   "metadata": {},
   "source": [
    "## 4.2 Data Exploration"
   ]
  },
  {
   "cell_type": "markdown",
   "metadata": {},
   "source": [
    "### 4.2.1 Visualization of distribution of movies based on their ratings."
   ]
  },
  {
   "cell_type": "code",
   "execution_count": 10,
   "metadata": {},
   "outputs": [
    {
     "data": {
      "image/png": "[encoded data removed]",
      "text/plain": [
       "<Figure size 720x432 with 1 Axes>"
      ]
     },
     "metadata": {
      "needs_background": "light"
     },
     "output_type": "display_data"
    }
   ],
   "source": [
    "#Distributio of movie ratings\n",
    "plt.figure(figsize=(10, 6))\n",
    "\n",
    "# Histplot plot for the ratings\n",
    "sns.histplot(df['rating'], bins=10, color='blue')\n",
    "\n",
    "# Title and labels\n",
    "plt.title('Distribution of Movie Ratings', color= 'blue', size=14, weight='bold')\n",
    "plt.xlabel('Movie Ratings',color= 'black', size=12, weight='bold')\n",
    "plt.ylabel('Frequency',color= 'black', size=12, weight='bold')\n",
    "\n",
    "# Display\n",
    "plt.tight_layout()\n",
    "plt.show()"
   ]
  },
  {
   "cell_type": "markdown",
   "metadata": {},
   "source": [
    "### 4.2.2 Count of movie distribution by genre."
   ]
  },
  {
   "cell_type": "code",
   "execution_count": 11,
   "metadata": {},
   "outputs": [
    {
     "data": {
      "image/png": "[encoded data removed]",
      "text/plain": [
       "<Figure size 432x288 with 1 Axes>"
      ]
     },
     "metadata": {
      "needs_background": "light"
     },
     "output_type": "display_data"
    }
   ],
   "source": [
    "#Count plot\n",
    "# Creating series of genres\n",
    "genres_series = df['genres'].str.split('|').explode()\n",
    "\n",
    "# Count plot\n",
    "sns.countplot(data=genres_series, x=genres_series, palette='viridis')\n",
    "\n",
    "# Title and labels\n",
    "plt.title('Count of Movies by Genre', color= 'blue', size=14, weight='bold')\n",
    "plt.xlabel('Genre',color= 'black', size=12, weight='bold')\n",
    "plt.ylabel('Count',color= 'black', size=12, weight='bold')\n",
    "\n",
    "# Rotate labels for better readability\n",
    "plt.xticks(rotation=45, ha='right')\n",
    "\n",
    "#Display\n",
    "plt.tight_layout()\n",
    "plt.show()"
   ]
  },
  {
   "cell_type": "markdown",
   "metadata": {},
   "source": [
    "# 5.0 Modelling\n",
    "\n",
    "Build a model that provides top 5 movie recommendations to a user, based on their ratings of other movies. This will be deployed to ...."
   ]
  },
  {
   "cell_type": "markdown",
   "metadata": {},
   "source": [
    "### Modelling packages"
   ]
  },
  {
   "cell_type": "code",
   "execution_count": 12,
   "metadata": {},
   "outputs": [],
   "source": [
    "#Modelling packages\n",
    "from sklearn.model_selection import train_test_split\n",
    "from sklearn.pipeline import Pipeline\n",
    "from sklearn.base import BaseEstimator, TransformerMixin\n",
    "from sklearn.metrics import mean_squared_error, mean_absolute_error,accuracy_score,roc_curve, auc\n",
    "from sklearn.metrics.pairwise import cosine_similarity\n",
    "from surprise import KNNBasic, Reader, Dataset\n",
    "from surprise.model_selection import train_test_split\n",
    "from sklearn.feature_extraction.text import TfidfVectorizer\n",
    "from sklearn.metrics.pairwise import cosine_similarity\n",
    "from surprise import accuracy, SVD, Reader, Dataset"
   ]
  },
  {
   "cell_type": "markdown",
   "metadata": {},
   "source": [
    "## 5.1. Item-Based Collaborative Filtering (item-item CF)\n",
    "\n",
    "The model recommends a movie based on the similarity between items (movies)."
   ]
  },
  {
   "cell_type": "markdown",
   "metadata": {},
   "source": [
    "Initializing Reader class and using .min() and .max()  to set the rating range of the dataset(df), and convert the dataset(df) to Surprise dataset(data)."
   ]
  },
  {
   "cell_type": "code",
   "execution_count": 13,
   "metadata": {},
   "outputs": [],
   "source": [
    "# Define the rating scale\n",
    "reader = Reader(rating_scale=(df['rating'].min(), df['rating'].max()))\n",
    "\n",
    "# Convert the df dataset to a Surprise dataset\n",
    "data = Dataset.load_from_df(df[[\"userid\", \"movieid\", \"rating\"]], reader)"
   ]
  },
  {
   "cell_type": "markdown",
   "metadata": {},
   "source": [
    "Splitting Surprise dataset (data) into training and testing  datasets, setting test size to 20% of the dataset and random state to 42 for reproducibility."
   ]
  },
  {
   "cell_type": "code",
   "execution_count": 14,
   "metadata": {},
   "outputs": [],
   "source": [
    "# Splitting the surprise dataset\n",
    "trainset, testset = train_test_split(data, test_size=0.2, random_state=42)\n"
   ]
  },
  {
   "cell_type": "markdown",
   "metadata": {},
   "source": [
    "Defining cosine similarity for KNNBasic to measure the similarity between items (setting user_based = False to imply item_based)."
   ]
  },
  {
   "cell_type": "code",
   "execution_count": 15,
   "metadata": {},
   "outputs": [],
   "source": [
    "# Define similarity options\n",
    "sim_options = {\n",
    "    'name': 'cosine',  # cosine similarity option to measure the similarity between items\n",
    "    'user_based': False  # Setting to False for item-based filtering \n",
    "}"
   ]
  },
  {
   "cell_type": "markdown",
   "metadata": {},
   "source": [
    "Initialize item_based collaborative filtering model using KNNBasic algorithm and train the model on training dataset."
   ]
  },
  {
   "cell_type": "code",
   "execution_count": 16,
   "metadata": {},
   "outputs": [
    {
     "name": "stdout",
     "output_type": "stream",
     "text": [
      "Computing the cosine similarity matrix...\n",
      "Done computing similarity matrix.\n"
     ]
    },
    {
     "data": {
      "text/plain": [
       "<surprise.prediction_algorithms.knns.KNNBasic at 0x22c621b4b50>"
      ]
     },
     "execution_count": 16,
     "metadata": {},
     "output_type": "execute_result"
    }
   ],
   "source": [
    "# Build the model using the KNNBasic \n",
    "item_cf_model = KNNBasic(sim_options=sim_options)\n",
    "\n",
    "# Train the model on the training set\n",
    "item_cf_model.fit(trainset)"
   ]
  },
  {
   "cell_type": "markdown",
   "metadata": {},
   "source": [
    "Creating a dictionary that maps movie IDs to coresponding movie titles, convert neighbors indices(indexing in the trainset) to original raw item ID and retrieve  coresponding movie titles. Print out top 5 (k=5) similar items for a given items (say movie Id=296)."
   ]
  },
  {
   "cell_type": "code",
   "execution_count": 17,
   "metadata": {},
   "outputs": [
    {
     "name": "stdout",
     "output_type": "stream",
     "text": [
      "Top 5 neighbors for item 296:\n",
      "1. Movie ID: 4024, Title: House of Mirth, The (2000)\n",
      "2. Movie ID: 58047, Title: Definitely, Maybe (2008)\n",
      "3. Movie ID: 3330, Title: Splendor in the Grass (1961)\n",
      "4. Movie ID: 892, Title: Twelfth Night (1996)\n",
      "5. Movie ID: 2390, Title: Little Voice (1998)\n"
     ]
    }
   ],
   "source": [
    "# Retrieve the neighbors for the specified movie ID\n",
    "movieid =296 # item\n",
    "k = 5        # Number of neighbors\n",
    "neighbors = item_cf_model.get_neighbors(movieid, k=k)  # Get neighbors for a given movieid\n",
    "# Creating a dictionary of movieId to title\n",
    "movie_titles_dict = dict(zip(df['movieid'], df['title']))\n",
    "\n",
    "# Convert the neighbors indices back to original IDs\n",
    "neighbors_original_ids = [trainset.to_raw_iid(i) for i in neighbors]\n",
    "    \n",
    "# Map the neighbor movie IDs to movie titles using list comprehension\n",
    "neighbors_titles = [movie_titles_dict.get(movie_id) for movie_id in neighbors_original_ids]\n",
    "\n",
    "#Top 5 neighbors for item 296\n",
    "print(\"Top 5 neighbors for item 296:\")\n",
    "for i, title in enumerate(neighbors_titles, 1):\n",
    "    movie_id = neighbors_original_ids[i - 1]  # Getting the original movie Id\n",
    "    print(f\"{i}. Movie ID: {movie_id}, Title: {title}\")"
   ]
  },
  {
   "cell_type": "markdown",
   "metadata": {},
   "source": [
    "# 5.2. Content Based Filtering Recommendation System\n",
    "\n",
    "This model uses item features to recommend other items similar to user preferences, based on their previous ratings."
   ]
  },
  {
   "cell_type": "markdown",
   "metadata": {},
   "source": [
    "Limit the original dataset to 10000 rows to reduce computational complexity, and create and feature engineer 'content' which gives an enriched textual description of each movie based on its genres and associated tags for feature extraction."
   ]
  },
  {
   "cell_type": "code",
   "execution_count": 18,
   "metadata": {},
   "outputs": [],
   "source": [
    "# Subset the original dataset to 10000 rows and feature engineer 'content' feature\n",
    "df_subset = df.head(10000)\n",
    "df_subset['content'] = df_subset['genres'] + ' ' + df_subset['tag']"
   ]
  },
  {
   "cell_type": "markdown",
   "metadata": {},
   "source": [
    "Create TF-IDF(Term Frequency-Inverse Document Frequency) to transform the combined textual content into a matrix of numerical features. "
   ]
  },
  {
   "cell_type": "code",
   "execution_count": 19,
   "metadata": {},
   "outputs": [],
   "source": [
    "#Create a TF-IDF representation of the 'content' column\n",
    "tfidf = TfidfVectorizer(stop_words='english')\n",
    "# Convert the content column into a matrix of TF-IDF features\n",
    "tfidf_matrix = tfidf.fit_transform(df_subset['content'])"
   ]
  },
  {
   "cell_type": "markdown",
   "metadata": {},
   "source": [
    "Compute cosine similarity between all pairs of movies."
   ]
  },
  {
   "cell_type": "code",
   "execution_count": 20,
   "metadata": {},
   "outputs": [],
   "source": [
    "# Calculate Cosine Similarity between movies\n",
    "cosine_sim = cosine_similarity(tfidf_matrix, tfidf_matrix)"
   ]
  },
  {
   "cell_type": "markdown",
   "metadata": {},
   "source": [
    "Remove duplicates based on movie Id to ensure that each movie only appears once in the DataFrame,useful for getting distinct movie recommendations, and reset index."
   ]
  },
  {
   "cell_type": "code",
   "execution_count": 21,
   "metadata": {},
   "outputs": [],
   "source": [
    "# Drop duplicates based on 'movieid', keeping only one entry per movie\n",
    "df_unique = df.drop_duplicates(subset=['movieid'])\n",
    "# Reset the index of df_unique \n",
    "df_unique = df_unique.reset_index(drop=True)"
   ]
  },
  {
   "cell_type": "markdown",
   "metadata": {},
   "source": [
    "Define a function to recommend top 5 similar movies based on a given movie Id. The function takes movie Id as as an argument and returns a list of the top 5 most similar movies based on cosine similarity."
   ]
  },
  {
   "cell_type": "code",
   "execution_count": 22,
   "metadata": {},
   "outputs": [],
   "source": [
    "# Create a function to recommend movies based on movieid\n",
    "def recommend_content_based(movieid, cosine_sim=cosine_sim, top_n=5):\n",
    "    # Get the index of the movie that matches the movieid\n",
    "    idx = df_unique.index[df_unique['movieid'] == movieid].tolist()[0]\n",
    "    \n",
    "    # Get the pairwise similarity scores for the movie\n",
    "    sim_scores = list(enumerate(cosine_sim[idx]))\n",
    "    \n",
    "    # Sort the movies based on similarity score (highest first)\n",
    "    sim_scores = sorted(sim_scores, key=lambda x: x[1], reverse=True)\n",
    "    \n",
    "    # Get the top 5 most similar movies \n",
    "    sim_scores = sim_scores[1:top_n+1]\n",
    "    \n",
    "    # Get the movie indices\n",
    "    movie_indices = [i[0] for i in sim_scores]\n",
    "    \n",
    "    # Return the top 5 most similar movies\n",
    "    recommended_content_based = df_unique.iloc[movie_indices][['movieid', 'title']]\n",
    "    \n",
    "    return recommended_content_based"
   ]
  },
  {
   "cell_type": "markdown",
   "metadata": {},
   "source": [
    "Calling the function to recommend movies for movieid = 3."
   ]
  },
  {
   "cell_type": "code",
   "execution_count": 23,
   "metadata": {},
   "outputs": [
    {
     "data": {
      "text/html": [
       "<div>\n",
       "<style scoped>\n",
       "    .dataframe tbody tr th:only-of-type {\n",
       "        vertical-align: middle;\n",
       "    }\n",
       "\n",
       "    .dataframe tbody tr th {\n",
       "        vertical-align: top;\n",
       "    }\n",
       "\n",
       "    .dataframe thead th {\n",
       "        text-align: right;\n",
       "    }\n",
       "</style>\n",
       "<table border=\"1\" class=\"dataframe\">\n",
       "  <thead>\n",
       "    <tr style=\"text-align: right;\">\n",
       "      <th></th>\n",
       "      <th>movieid</th>\n",
       "      <th>title</th>\n",
       "    </tr>\n",
       "  </thead>\n",
       "  <tbody>\n",
       "    <tr>\n",
       "      <th>3</th>\n",
       "      <td>50</td>\n",
       "      <td>Usual Suspects, The (1995)</td>\n",
       "    </tr>\n",
       "    <tr>\n",
       "      <th>5</th>\n",
       "      <td>110</td>\n",
       "      <td>Braveheart (1995)</td>\n",
       "    </tr>\n",
       "    <tr>\n",
       "      <th>7</th>\n",
       "      <td>223</td>\n",
       "      <td>Clerks (1994)</td>\n",
       "    </tr>\n",
       "    <tr>\n",
       "      <th>9</th>\n",
       "      <td>260</td>\n",
       "      <td>Star Wars: Episode IV - A New Hope (1977)</td>\n",
       "    </tr>\n",
       "    <tr>\n",
       "      <th>11</th>\n",
       "      <td>316</td>\n",
       "      <td>Stargate (1994)</td>\n",
       "    </tr>\n",
       "  </tbody>\n",
       "</table>\n",
       "</div>"
      ],
      "text/plain": [
       "    movieid                                      title\n",
       "3        50                 Usual Suspects, The (1995)\n",
       "5       110                          Braveheart (1995)\n",
       "7       223                              Clerks (1994)\n",
       "9       260  Star Wars: Episode IV - A New Hope (1977)\n",
       "11      316                            Stargate (1994)"
      ]
     },
     "execution_count": 23,
     "metadata": {},
     "output_type": "execute_result"
    }
   ],
   "source": [
    "recommend_content_based(3)"
   ]
  },
  {
   "cell_type": "markdown",
   "metadata": {},
   "source": [
    "## 5.3. Matrix Factorization with Singular Value Decomposition (SVD)\n",
    "\n",
    "The model predicts the ratings for the unrated movies, and recommend movies to users based on their past ratings and similar preferences of other users.\n"
   ]
  },
  {
   "cell_type": "markdown",
   "metadata": {},
   "source": [
    "Instantiating reader and loading data."
   ]
  },
  {
   "cell_type": "code",
   "execution_count": 24,
   "metadata": {},
   "outputs": [],
   "source": [
    "# Instantiate reader and load the data\n",
    "reader = Reader(rating_scale=(1, 5)) \n",
    "data = Dataset.load_from_df(df[['userid', 'movieid', 'rating']], reader)"
   ]
  },
  {
   "cell_type": "markdown",
   "metadata": {},
   "source": [
    "Generate training set, initialize  and train SVD model on train set."
   ]
  },
  {
   "cell_type": "code",
   "execution_count": 25,
   "metadata": {},
   "outputs": [
    {
     "data": {
      "text/plain": [
       "<surprise.prediction_algorithms.matrix_factorization.SVD at 0x22c5fc94a60>"
      ]
     },
     "execution_count": 25,
     "metadata": {},
     "output_type": "execute_result"
    }
   ],
   "source": [
    "#Generate trainset and train an SVD model\n",
    "trainset = data.build_full_trainset()\n",
    "svd = SVD()\n",
    "svd.fit(trainset)"
   ]
  },
  {
   "cell_type": "markdown",
   "metadata": {},
   "source": [
    "Extracting a list of unique movie Ids from the dataframe."
   ]
  },
  {
   "cell_type": "code",
   "execution_count": 26,
   "metadata": {},
   "outputs": [],
   "source": [
    "# List of all movie Ids\n",
    "all_movie_ids = df['movieid'].unique()"
   ]
  },
  {
   "cell_type": "markdown",
   "metadata": {},
   "source": [
    "Defining a function to recommend top 5 movies to a given user based on predictions made by the trained Singular Value Decomposition (SVD) model."
   ]
  },
  {
   "cell_type": "code",
   "execution_count": 27,
   "metadata": {},
   "outputs": [],
   "source": [
    "# Define the svd function\n",
    "def svd_recommendations(user_id, svd_model, all_movie_ids, top_n=5):\n",
    "    # Predict ratings for all movies for the given user\n",
    "    rating_pred = [svd_model.predict(user_id, movie_id) for movie_id in all_movie_ids]\n",
    "\n",
    "    # Sort predictions \n",
    "    sorted_pred = sorted(rating_pred, key=lambda x: x.est, reverse=True)\n",
    "\n",
    "    # Extract top_n recommended movie Ids\n",
    "    recommended_movie_ids = [prediction.iid for prediction in sorted_pred[:top_n]]\n",
    "\n",
    "    # Remove duplicates from DataFrame \n",
    "    clean_df = df.drop_duplicates(subset='movieid')\n",
    "\n",
    "    # Map movie Ids to movie titles\n",
    "    svd_recommended_movies = clean_df[clean_df['movieid'].isin(recommended_movie_ids)][['movieid', 'title', 'rating', 'genres']]\n",
    "\n",
    "    return svd_recommended_movies\n"
   ]
  },
  {
   "cell_type": "markdown",
   "metadata": {},
   "source": [
    "Generate and print top 5 movies recommended for a specified user."
   ]
  },
  {
   "cell_type": "code",
   "execution_count": 28,
   "metadata": {},
   "outputs": [
    {
     "name": "stdout",
     "output_type": "stream",
     "text": [
      "Top 5 Recommended Movies: \n",
      "         movieid                                       title  rating  \\\n",
      "12388       296                         Pulp Fiction (1994)     3.0   \n",
      "134038     2324  Life Is Beautiful (La Vita è bella) (1997)     1.0   \n",
      "187651     1193      One Flew Over the Cuckoo's Nest (1975)     4.0   \n",
      "207585   104879                            Prisoners (2013)     3.0   \n",
      "227909   174053        Black Mirror: White Christmas (2014)     5.0   \n",
      "\n",
      "                                      genres  \n",
      "12388            Comedy|Crime|Drama|Thriller  \n",
      "134038              Comedy|Drama|Romance|War  \n",
      "187651                                 Drama  \n",
      "207585                Drama|Mystery|Thriller  \n",
      "227909  Drama|Horror|Mystery|Sci-Fi|Thriller  \n"
     ]
    }
   ],
   "source": [
    "# Extract top 5 movie recommendations for a specific user \n",
    "user_id = 5\n",
    "top_5_movies_svd = svd_recommendations(user_id, svd, all_movie_ids, top_n=5)\n",
    "\n",
    "# Top 5 movie recommendations\n",
    "print(\"Top 5 Recommended Movies: \\n\", top_5_movies_svd)"
   ]
  },
  {
   "cell_type": "markdown",
   "metadata": {},
   "source": [
    "# 6.0 Model Evaluations\n",
    "\n",
    "Evaluations for all models shall be based on mean absolute error (MAE) and mean squared error(MSE). Comparison of the two parameter and criteria for picking the best performing model shall be on the lowest MAE and MSE."
   ]
  },
  {
   "cell_type": "markdown",
   "metadata": {},
   "source": [
    "### 6.1. Evaluation of Item-Based Recommendation Model"
   ]
  },
  {
   "cell_type": "code",
   "execution_count": 29,
   "metadata": {},
   "outputs": [
    {
     "name": "stdout",
     "output_type": "stream",
     "text": [
      "MSE: 0.3424\n",
      "MAE:  0.3594\n"
     ]
    }
   ],
   "source": [
    "\n",
    "# Predict ratings on the testset\n",
    "item_cf_predictions = item_cf_model.test(testset)\n",
    "\n",
    "# Evaluate using MSE and MAE\n",
    "item_cf_mse = accuracy.mse(item_cf_predictions)\n",
    "item_cf_mae = accuracy.mae(item_cf_predictions)\n",
    "# \n",
    "\n",
    "# print(f'Item-based CF - MSE: {item_cf_mse:.4f}')\n",
    "# print(f'Item-based CF - MAE: {item_cf_mae:.4f}')"
   ]
  },
  {
   "cell_type": "markdown",
   "metadata": {},
   "source": [
    "### 6.2. Evaluation of Content-Based Recommendation Model"
   ]
  },
  {
   "cell_type": "code",
   "execution_count": 30,
   "metadata": {},
   "outputs": [
    {
     "name": "stdout",
     "output_type": "stream",
     "text": [
      "Mean Squared Error (MSE):  1.2797\n",
      "Mean Absolute Error (MAE):  0.8500\n"
     ]
    }
   ],
   "source": [
    "# Extract the actual ratings from the 'rating' column of df_unique\n",
    "actual_ratings = df_unique['rating'].values\n",
    "\n",
    "# Initialize an empty list to store the predicted ratings\n",
    "predicted_ratings = []\n",
    "\n",
    "# Loop through each movie in the dataset get recommendations and evaluate(limit 1000 to simplify)\n",
    "for idx in range(1000):  \n",
    "    movieid = df_unique.iloc[idx]['movieid']  # Extracting movieid for the movie at index\n",
    "    \n",
    "    # Getting the recommended movies using content-based filtering\n",
    "    recommended_movies = recommend_content_based(movieid, cosine_sim, top_n=5)\n",
    "    \n",
    "    # Predict the rating based on the mean of the ratings of the recommended movies\n",
    "    # List of movie ids for the recommended movies \n",
    "    recommended_movie_ids = recommended_movies['movieid'].values\n",
    "    \n",
    "    # Ratings for the recommended movie ids\n",
    "    recommended_ratings = df_unique[df_unique['movieid'].isin(recommended_movie_ids)]['rating'].values\n",
    "    \n",
    "    # Taking the mean\n",
    "    predicted_rating = np.nanmean(recommended_ratings)  \n",
    "    predicted_ratings.append(predicted_rating)\n",
    "\n",
    "# Calculate MSE and MAE\n",
    "content_based_mse = mean_squared_error(actual_ratings[:1000], predicted_ratings)\n",
    "content_based_mae = mean_absolute_error(actual_ratings[:1000], predicted_ratings)\n",
    "\n",
    "# Print out the evaluation metrics\n",
    "print(f\"Mean Squared Error (MSE): {content_based_mse: .4f}\")\n",
    "print(f\"Mean Absolute Error (MAE): {content_based_mae: .4f}\")"
   ]
  },
  {
   "cell_type": "markdown",
   "metadata": {},
   "source": [
    "### 6.3. Evaluation of Singular Value Decomposition (SVD) Model"
   ]
  },
  {
   "cell_type": "code",
   "execution_count": 31,
   "metadata": {},
   "outputs": [
    {
     "name": "stdout",
     "output_type": "stream",
     "text": [
      "MSE: 0.0929\n",
      "MAE:  0.2071\n"
     ]
    }
   ],
   "source": [
    "# Predict ratings on the testset\n",
    "svd_predictions = svd.test(testset)\n",
    "\n",
    "# Evaluate using MSE and MAE\n",
    "svd_mse = accuracy.mse(svd_predictions)\n",
    "svd_mae = accuracy.mae(svd_predictions)\n"
   ]
  },
  {
   "cell_type": "markdown",
   "metadata": {},
   "source": [
    "### 6.4 Best Model Performances\n",
    "\n",
    "The best performing model comparing mean squared error(MSE) and mean absolute error(MAE) among the three models is the **Matrix Factorization with Singular Value Decomposition(SVD) model**. It had the lowest MSE and MAE."
   ]
  },
  {
   "cell_type": "markdown",
   "metadata": {},
   "source": [
    "#### 6.4.1. Visual on Residuals"
   ]
  },
  {
   "cell_type": "code",
   "execution_count": 32,
   "metadata": {},
   "outputs": [],
   "source": [
    "# Prepare for storing predictions and actuals\n",
    "predictions = []\n",
    "actuals = []\n",
    "\n",
    "# Loop through testset to predict ratings for each user-item pair\n",
    "for uid, iid, true_r in testset:\n",
    "    # Predict the rating for the user-item pair\n",
    "    prediction = svd.predict(uid, iid)\n",
    "    \n",
    "    # Store predicted and actual ratings\n",
    "    predictions.append(prediction.est)\n",
    "    actuals.append(true_r)\n",
    "\n",
    "# Convert lists to numpy arrays for easier handling\n",
    "predictions = np.array(predictions)\n",
    "actuals = np.array(actuals)\n",
    "\n",
    "# Calculate residuals (actual - predicted)\n",
    "residuals = actuals - predictions"
   ]
  },
  {
   "cell_type": "code",
   "execution_count": 33,
   "metadata": {},
   "outputs": [
    {
     "data": {
      "image/png": "[encoded data removed]",
      "text/plain": [
       "<Figure size 720x432 with 1 Axes>"
      ]
     },
     "metadata": {
      "needs_background": "light"
     },
     "output_type": "display_data"
    }
   ],
   "source": [
    "# Visualize the residuals\n",
    "plt.figure(figsize=(10, 6))\n",
    "plt.scatter(actuals, residuals, color='blue', s=10)\n",
    "plt.axhline(y=0, color='red', linestyle='--')  \n",
    "plt.title('Residuals: Actual vs Predicted Ratings', color='blue', size=14, weight='bold')\n",
    "plt.xlabel('Actual Ratings', color='black', size=12, weight='bold')\n",
    "plt.ylabel('Residuals (Actual - Predicted)',color='black', size=12, weight='bold')\n",
    "plt.show()"
   ]
  },
  {
   "cell_type": "markdown",
   "metadata": {},
   "source": [
    "#### 6.4.2. Receiver Operating Characteristic (ROC) Curve, Area under the Curve (AUC) visual"
   ]
  },
  {
   "cell_type": "code",
   "execution_count": 34,
   "metadata": {},
   "outputs": [],
   "source": [
    "# Consider ratings > 3 as relevant)\n",
    "threshold = 3.0\n",
    "\n",
    "# Predict ratings for each user-item pair in the testset using the trained SVD model\n",
    "predictions = svd.test(testset)\n",
    "\n",
    "# Create true labels and predicted scores\n",
    "y_true = []\n",
    "y_pred = []\n",
    "\n",
    "# Loop through the predictions to calculate true labels \n",
    "for uid, iid, true_r, est, _ in predictions:\n",
    "    # 1 for relevant (rating > threshold), 0 for irrelevant (rating <= threshold)\n",
    "    y_true.append(1 if true_r > threshold else 0)\n",
    "    y_pred.append(est)  # Predicted rating\n",
    "\n",
    "# Calculate ROC curve\n",
    "fpr, tpr, thresholds = roc_curve(y_true, y_pred)\n",
    "roc_auc = auc(fpr, tpr)\n",
    "\n"
   ]
  },
  {
   "cell_type": "code",
   "execution_count": 35,
   "metadata": {},
   "outputs": [
    {
     "data": {
      "image/png": "[encoded data removed]",
      "text/plain": [
       "<Figure size 576x432 with 1 Axes>"
      ]
     },
     "metadata": {
      "needs_background": "light"
     },
     "output_type": "display_data"
    },
    {
     "name": "stdout",
     "output_type": "stream",
     "text": [
      "AUC: 0.99\n"
     ]
    }
   ],
   "source": [
    "# Plot the ROC curve\n",
    "plt.figure(figsize=(8, 6))\n",
    "plt.plot(fpr, tpr, color='blue', lw=4, label=f'ROC curve (AUC = {roc_auc:.2f})')\n",
    "plt.plot([0, 1], [0, 1], color='red', linestyle='--')  # Diagonal line for random classifier\n",
    "plt.xlim([0.0, 1.0])\n",
    "plt.ylim([0.0, 1.05])\n",
    "plt.title('Receiver Operating Characteristic (ROC) Curve', color='blue', size=14, weight='bold')\n",
    "plt.xlabel('False Positive Rate',color='black', size=12, weight='bold')\n",
    "plt.ylabel('True Positive Rate',color='black', size=12, weight='bold')\n",
    "\n",
    "plt.legend(loc='lower right')\n",
    "plt.show()\n",
    "\n",
    "# Output AUC\n",
    "print(f'AUC: {roc_auc:.2f}')"
   ]
  },
  {
   "cell_type": "markdown",
   "metadata": {},
   "source": [
    "Observations made when comparing genres of the top 5 rated movies by user (userid =5) with that of the model prediction of similar movies, shows clearly there exists a big overlap."
   ]
  },
  {
   "cell_type": "code",
   "execution_count": 36,
   "metadata": {},
   "outputs": [
    {
     "data": {
      "text/plain": [
       "genres\n",
       "Comedy|Crime|Drama|Thriller    178\n",
       "Action|Drama|War                10\n",
       "Comedy|Romance                   9\n",
       "Action|Sci-Fi                    8\n",
       "Crime|Drama                      8\n",
       "Name: count, dtype: int64"
      ]
     },
     "execution_count": 36,
     "metadata": {},
     "output_type": "execute_result"
    }
   ],
   "source": [
    "#Genres for top 5 rated movies by user (5)\n",
    "df[df['userid']==5]['genres'].value_counts().head(5)"
   ]
  },
  {
   "cell_type": "code",
   "execution_count": 37,
   "metadata": {},
   "outputs": [
    {
     "data": {
      "text/plain": [
       "12388              Comedy|Crime|Drama|Thriller\n",
       "134038                Comedy|Drama|Romance|War\n",
       "187651                                   Drama\n",
       "207585                  Drama|Mystery|Thriller\n",
       "227909    Drama|Horror|Mystery|Sci-Fi|Thriller\n",
       "Name: genres, dtype: object"
      ]
     },
     "execution_count": 37,
     "metadata": {},
     "output_type": "execute_result"
    }
   ],
   "source": [
    "#Genres of top 5 similar movies predicted for user(5) by the model.\n",
    "top_5_movies_svd['genres']"
   ]
  },
  {
   "cell_type": "markdown",
   "metadata": {},
   "source": [
    "# 7.0 Conclusions and Recommendations\n",
    "\n",
    "\n",
    "Best recommendtion system model for deployment is **Matrix Factorization with Singular Value Decomposistion(SVD)** by the movie shop. \n",
    "\n",
    "Model performance with an AUC (Area Under the Curve) = 0.97 indicates that the model highly distinguishes between relevant and irrelevant recommendations, which translates to higher precision and higher recall. The model ranks the relevant movies higher in the list, ensuring that the user gets personalized and accurate recommendations.\n",
    "\n",
    "This ensures that;\n",
    "* It best recommends movies based on what customers have done, liked, or searched (personalized recommendations).\n",
    "* Help customers discover movies that they may have never considered but might like and thus increase their tastes and knowledge of films.\n",
    "* Incentivize customers to spend more time on the website with value-added recommendations relevant to their interests.\n",
    "* Personalized suggestions will increase sales and improve customer retention, as they will revisit your site for more and remain longer-term.\n",
    "* Facilitate an easy and smooth recommendation experience for your customers.\n",
    "\n",
    "\n"
   ]
  }
 ],
 "metadata": {
  "kernelspec": {
   "display_name": "Python 3 (ipykernel)",
   "language": "python",
   "name": "python3"
  },
  "language_info": {
   "codemirror_mode": {
    "name": "ipython",
    "version": 3
   },
   "file_extension": ".py",
   "mimetype": "text/x-python",
   "name": "python",
   "nbconvert_exporter": "python",
   "pygments_lexer": "ipython3",
   "version": "3.12.3"
  }
 },
 "nbformat": 4,
 "nbformat_minor": 2
}
