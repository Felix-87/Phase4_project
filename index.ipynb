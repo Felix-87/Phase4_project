{
 "cells": [
  {
   "cell_type": "markdown",
   "metadata": {},
   "source": [
    "# 1.0 Introduction\n",
    "\n",
    "This project involves analysis of movies data to build a recommendation system model that provides diverse options and accurate recommendations to customers that improves their shopping experience and increase engagement with shop catalogs, subsequently increasing sales. The research follows cross industry standard procedures (CRISP-DM) methodlogy fo the movies industry."
   ]
  },
  {
   "cell_type": "markdown",
   "metadata": {},
   "source": [
    "# 2.0 Business Understanding\n",
    "\n",
    "\n",
    "# 2.1 Objective\n",
    "\n",
    "The research mainly aims at developing a movie recommendation system, which would be helpful in recommending other similar movies to customers depending on the preference that a customer may have for a particular movie. A customer interested in a particular movie-he asks questions about it or looks at it in a catalog-the system should suggest other movies similar to the target movie. "
   ]
  },
  {
   "cell_type": "markdown",
   "metadata": {},
   "source": [
    "# 3.0 The Data\n",
    "The dataset for modelling was drawn from https://grouplens.org/datasets/movielens/latest/.\n",
    "Merged dataset contains 100,000 ratings and 3,600 tag applications applied to 9,000 movies by 600 users.\n",
    "\n",
    "### Content\n",
    "\n",
    "* **userId:** Unique identifier for the user.\n",
    "\n",
    "* **movieId:** Unique identifier  for movie.\n",
    "\n",
    "* **rating:** Ratings given by the user to the movie.\n",
    "\n",
    "* **timestamp:** Time at which the rating was given by user.\n",
    "\n",
    "* **title:** Name of the movie.\n",
    "\n",
    "* **genres:** The genres for which movies belong.\n",
    "\n",
    "* **tag:** A glimpse of what the movie is about or like.\n"
   ]
  },
  {
   "cell_type": "markdown",
   "metadata": {},
   "source": [
    "# 3.1 Data Understanding \n",
    "\n",
    "## Data Preview\n",
    "\n",
    "This is important  as it provides a snapshot of the type of information contained in the dataset for analysis."
   ]
  },
  {
   "cell_type": "markdown",
   "metadata": {},
   "source": [
    "### Import relevant python libraries"
   ]
  },
  {
   "cell_type": "code",
   "execution_count": 1,
   "metadata": {},
   "outputs": [],
   "source": [
    "import pandas as pd\n",
    "import numpy as np\n",
    "import matplotlib.pyplot as plt\n",
    "import seaborn as sns\n",
    "from sklearn.metrics import mean_absolute_error, mean_squared_error\n",
    "from sklearn.model_selection import train_test_split\n",
    "from sklearn.pipeline import Pipeline\n",
    "from surprise.prediction_algorithms import knns\n",
    "from surprise.similarities import cosine, msd, pearson\n",
    "from surprise.prediction_algorithms import SVD\n",
    "from surprise.model_selection import GridSearchCV\n",
    "from sklearn.feature_extraction.text import TfidfVectorizer\n",
    "from sklearn.decomposition import TruncatedSVD\n",
    "from scipy.sparse import coo_matrix\n",
    "import warnings\n",
    "warnings.filterwarnings('ignore')"
   ]
  },
  {
   "cell_type": "markdown",
   "metadata": {},
   "source": [
    "### Loading of the MovieLens datasets for preview"
   ]
  },
  {
   "cell_type": "code",
   "execution_count": 2,
   "metadata": {},
   "outputs": [],
   "source": [
    "links = pd.read_csv(\"links.csv\")\n",
    "movies = pd.read_csv(\"movies.csv\")\n",
    "ratings = pd.read_csv(\"ratings.csv\")\n",
    "tags = pd.read_csv(\"tags.csv\")"
   ]
  },
  {
   "cell_type": "code",
   "execution_count": 3,
   "metadata": {},
   "outputs": [
    {
     "name": "stdout",
     "output_type": "stream",
     "text": [
      "Links dataset first 3 records \n",
      "    movieId  imdbId   tmdbId\n",
      "0        1  114709    862.0\n",
      "1        2  113497   8844.0\n",
      "2        3  113228  15602.0 \n",
      "------------\n",
      "Movies dataset first 3 records \n",
      "     movieId                    title  \\\n",
      "0        1         Toy Story (1995)   \n",
      "1        2           Jumanji (1995)   \n",
      "2        3  Grumpier Old Men (1995)   \n",
      "\n",
      "                                        genres  \n",
      "0  Adventure|Animation|Children|Comedy|Fantasy  \n",
      "1                   Adventure|Children|Fantasy  \n",
      "2                               Comedy|Romance  \n",
      "------------\n",
      "Ratings dataset first 3 records \n",
      "     userId  movieId  rating  timestamp\n",
      "0       1        1     4.0  964982703\n",
      "1       1        3     4.0  964981247\n",
      "2       1        6     4.0  964982224\n",
      "------------\n",
      "Tags dataset first 3 records \n",
      "     userId  movieId              tag   timestamp\n",
      "0       2    60756            funny  1445714994\n",
      "1       2    60756  Highly quotable  1445714996\n",
      "2       2    60756     will ferrell  1445714992\n"
     ]
    }
   ],
   "source": [
    "print(f'Links dataset first 3 records \\n {links.head(3)} ' )\n",
    "print('------------')\n",
    "print(f'Movies dataset first 3 records \\n  {movies.head(3)}' )\n",
    "print('------------')\n",
    "print(f'Ratings dataset first 3 records \\n  {ratings.head(3)}' )\n",
    "print('------------')\n",
    "print(f'Tags dataset first 3 records \\n  {tags.head(3)}' )"
   ]
  },
  {
   "cell_type": "markdown",
   "metadata": {},
   "source": [
    "### *Observations*\n",
    "\n",
    "*  Movies, Ratings and Tags datasets will be merged to form data enriched dataset for analysis. Merging criteria on *movieId* with an *inner joint*.\n",
    "\n",
    "* Links datasets only contains unique identifies (IDs) and may not be useful for this study, thus will not be utilized."
   ]
  },
  {
   "cell_type": "code",
   "execution_count": 4,
   "metadata": {},
   "outputs": [
    {
     "data": {
      "text/html": [
       "<div>\n",
       "<style scoped>\n",
       "    .dataframe tbody tr th:only-of-type {\n",
       "        vertical-align: middle;\n",
       "    }\n",
       "\n",
       "    .dataframe tbody tr th {\n",
       "        vertical-align: top;\n",
       "    }\n",
       "\n",
       "    .dataframe thead th {\n",
       "        text-align: right;\n",
       "    }\n",
       "</style>\n",
       "<table border=\"1\" class=\"dataframe\">\n",
       "  <thead>\n",
       "    <tr style=\"text-align: right;\">\n",
       "      <th></th>\n",
       "      <th>userId_x</th>\n",
       "      <th>movieId</th>\n",
       "      <th>rating</th>\n",
       "      <th>timestamp_x</th>\n",
       "      <th>title</th>\n",
       "      <th>genres</th>\n",
       "      <th>userId_y</th>\n",
       "      <th>tag</th>\n",
       "      <th>timestamp_y</th>\n",
       "    </tr>\n",
       "  </thead>\n",
       "  <tbody>\n",
       "    <tr>\n",
       "      <th>0</th>\n",
       "      <td>1</td>\n",
       "      <td>1</td>\n",
       "      <td>4.0</td>\n",
       "      <td>964982703</td>\n",
       "      <td>Toy Story (1995)</td>\n",
       "      <td>Adventure|Animation|Children|Comedy|Fantasy</td>\n",
       "      <td>336</td>\n",
       "      <td>pixar</td>\n",
       "      <td>1139045764</td>\n",
       "    </tr>\n",
       "    <tr>\n",
       "      <th>1</th>\n",
       "      <td>1</td>\n",
       "      <td>1</td>\n",
       "      <td>4.0</td>\n",
       "      <td>964982703</td>\n",
       "      <td>Toy Story (1995)</td>\n",
       "      <td>Adventure|Animation|Children|Comedy|Fantasy</td>\n",
       "      <td>474</td>\n",
       "      <td>pixar</td>\n",
       "      <td>1137206825</td>\n",
       "    </tr>\n",
       "    <tr>\n",
       "      <th>2</th>\n",
       "      <td>1</td>\n",
       "      <td>1</td>\n",
       "      <td>4.0</td>\n",
       "      <td>964982703</td>\n",
       "      <td>Toy Story (1995)</td>\n",
       "      <td>Adventure|Animation|Children|Comedy|Fantasy</td>\n",
       "      <td>567</td>\n",
       "      <td>fun</td>\n",
       "      <td>1525286013</td>\n",
       "    </tr>\n",
       "    <tr>\n",
       "      <th>3</th>\n",
       "      <td>5</td>\n",
       "      <td>1</td>\n",
       "      <td>4.0</td>\n",
       "      <td>847434962</td>\n",
       "      <td>Toy Story (1995)</td>\n",
       "      <td>Adventure|Animation|Children|Comedy|Fantasy</td>\n",
       "      <td>336</td>\n",
       "      <td>pixar</td>\n",
       "      <td>1139045764</td>\n",
       "    </tr>\n",
       "    <tr>\n",
       "      <th>4</th>\n",
       "      <td>5</td>\n",
       "      <td>1</td>\n",
       "      <td>4.0</td>\n",
       "      <td>847434962</td>\n",
       "      <td>Toy Story (1995)</td>\n",
       "      <td>Adventure|Animation|Children|Comedy|Fantasy</td>\n",
       "      <td>474</td>\n",
       "      <td>pixar</td>\n",
       "      <td>1137206825</td>\n",
       "    </tr>\n",
       "  </tbody>\n",
       "</table>\n",
       "</div>"
      ],
      "text/plain": [
       "   userId_x  movieId  rating  timestamp_x             title  \\\n",
       "0         1        1     4.0    964982703  Toy Story (1995)   \n",
       "1         1        1     4.0    964982703  Toy Story (1995)   \n",
       "2         1        1     4.0    964982703  Toy Story (1995)   \n",
       "3         5        1     4.0    847434962  Toy Story (1995)   \n",
       "4         5        1     4.0    847434962  Toy Story (1995)   \n",
       "\n",
       "                                        genres  userId_y    tag  timestamp_y  \n",
       "0  Adventure|Animation|Children|Comedy|Fantasy       336  pixar   1139045764  \n",
       "1  Adventure|Animation|Children|Comedy|Fantasy       474  pixar   1137206825  \n",
       "2  Adventure|Animation|Children|Comedy|Fantasy       567    fun   1525286013  \n",
       "3  Adventure|Animation|Children|Comedy|Fantasy       336  pixar   1139045764  \n",
       "4  Adventure|Animation|Children|Comedy|Fantasy       474  pixar   1137206825  "
      ]
     },
     "execution_count": 4,
     "metadata": {},
     "output_type": "execute_result"
    }
   ],
   "source": [
    "#Merge movie and ratings datasets on movieId with an inner joint and assign movie_ratings\n",
    "movie_ratings = pd.merge(ratings,movies, on='movieId', how='inner')\n",
    "\n",
    "#Merge the resultant movie_ratings with tags on movieId with inner joint and assign movie_rating_tags\n",
    "movie_rating_tags = pd.merge(movie_ratings, tags, on=['movieId'], how='inner')\n",
    "\n",
    "#Remove duplicates if any\n",
    "movie_rating_tags = movie_rating_tags.drop_duplicates()\n",
    "\n",
    "#Check the first 5 rows of the merged dataset\n",
    "movie_rating_tags.head()"
   ]
  },
  {
   "cell_type": "code",
   "execution_count": 5,
   "metadata": {},
   "outputs": [
    {
     "data": {
      "text/plain": [
       "0"
      ]
     },
     "execution_count": 5,
     "metadata": {},
     "output_type": "execute_result"
    }
   ],
   "source": [
    "movie_rating_tags.duplicated().sum()"
   ]
  },
  {
   "cell_type": "code",
   "execution_count": 6,
   "metadata": {},
   "outputs": [
    {
     "name": "stdout",
     "output_type": "stream",
     "text": [
      "<class 'pandas.core.frame.DataFrame'>\n",
      "RangeIndex: 233213 entries, 0 to 233212\n",
      "Data columns (total 9 columns):\n",
      " #   Column       Non-Null Count   Dtype  \n",
      "---  ------       --------------   -----  \n",
      " 0   userId_x     233213 non-null  int64  \n",
      " 1   movieId      233213 non-null  int64  \n",
      " 2   rating       233213 non-null  float64\n",
      " 3   timestamp_x  233213 non-null  int64  \n",
      " 4   title        233213 non-null  object \n",
      " 5   genres       233213 non-null  object \n",
      " 6   userId_y     233213 non-null  int64  \n",
      " 7   tag          233213 non-null  object \n",
      " 8   timestamp_y  233213 non-null  int64  \n",
      "dtypes: float64(1), int64(5), object(3)\n",
      "memory usage: 16.0+ MB\n"
     ]
    }
   ],
   "source": [
    "#Check merged dataset info\n",
    "movie_rating_tags.info()"
   ]
  },
  {
   "cell_type": "markdown",
   "metadata": {},
   "source": [
    "### *Observations*\n",
    "* The dataset has 233213 rows and 9 columns, although there,s duplication of columns (userId & timestamp).\n",
    "* It has 6 numerical features and 3 object features.\n",
    "* Dataset has equal number of non_null counts in all columns, indicates that there are no missing values.\n",
    "* Contains movieId and userId making the dataset suitable for building recommendation system(user-based and content-based)."
   ]
  },
  {
   "cell_type": "markdown",
   "metadata": {},
   "source": [
    "# 3.2 Problem Statement\n",
    "\n",
    "A new movie shop opens a branch in a new town with an aim to invent better interaction with customers by offering personalized movie recommendations. The company aims to recommend movies in which the customers have shown interest, liked, or even inquired about. This customized service will expose the customer to films they might not have considered but will likely enjoy based on the films they browse or inquire about. It would, therefore, be able to provide personalized recommendations through customer data on movie preference, past queries, and behavior to enhance customer experience, thereby commanding high satisfaction, loyalty, and repeat visits.\n",
    "\n",
    "### General Objective\n",
    "\n",
    "* To build a model that provides top 5 movie recommendations to a user, based on their ratings of other movies.\n",
    "\n",
    "### Specific Objectives\n",
    "\n",
    "* **Personalized Recommendations:** Build a system that will be able to recommend movies based on what customers have done, liked, or searched.\n",
    "* **Enhanced Discovery:** Help customers discover movies that they may have never considered but might like and thus increase their tastes and knowledge of films.\n",
    "* **Customer Engagement:** Incentivize customers to spend more time on the website with value-added recommendations relevant to their interests.\n",
    "* **Increased Sales and Retention:** Personalized suggestions will increase sales and improve customer retention, as they will revisit your site for more and remain longer-term.\n",
    "* **Enhanced User Experience:** Facilitate an easy and smooth recommendation experience for your customers.\n",
    "\n",
    "\n",
    "# 3.3 Metrics of success\n",
    "\n",
    "This project will be deemed successful if the built models will be able to predict top 5 movie recommendations to a user, based on their ratings of other movies.\n"
   ]
  },
  {
   "cell_type": "markdown",
   "metadata": {},
   "source": [
    "# 4.0 Data Preparation\n",
    "\n",
    "## 4.1 Data Cleaning\n",
    "\n",
    "Involves checking and removal of duplicates,checking for missing values and mitigation, and feature engineering.\n",
    "\n",
    "Dataset preview revealed duplicated columns and non-uniform feature naming. Therefore, all feature names will be converted to lowercase and remove the duplicated columns(userId_y, timestamp_y). Subsequently, rename 'userId_x' and 'timestamp_x' features to remove the suffixes."
   ]
  },
  {
   "cell_type": "code",
   "execution_count": 7,
   "metadata": {},
   "outputs": [
    {
     "name": "stdout",
     "output_type": "stream",
     "text": [
      "Duplicates: \n",
      "......\n",
      "0\n",
      "Missing values: \n",
      "....... \n",
      " userId_x       0\n",
      "movieId        0\n",
      "rating         0\n",
      "timestamp_x    0\n",
      "title          0\n",
      "genres         0\n",
      "userId_y       0\n",
      "tag            0\n",
      "timestamp_y    0\n",
      "dtype: int64\n"
     ]
    }
   ],
   "source": [
    "#Check for duplicates if any and print out\n",
    "print(f'Duplicates: \\n......\\n{movie_rating_tags.duplicated().sum()}')\n",
    "#Check for missing values duplicates if any and print out\n",
    "print(f'Missing values: \\n....... \\n {movie_rating_tags.isna().sum()}')"
   ]
  },
  {
   "cell_type": "markdown",
   "metadata": {},
   "source": [
    "### Observation\n",
    "\n",
    "There are no duplicate rows and missing values in all columns"
   ]
  },
  {
   "cell_type": "code",
   "execution_count": 8,
   "metadata": {},
   "outputs": [],
   "source": [
    "#Remove 'userId_y' and 'timestap' features\n",
    "movie_rating_tags = movie_rating_tags.drop([\"userId_y\",\"timestamp_x\",\"timestamp_y\"], axis=1)\n",
    "#Rename 'userId_x' as 'userid' \n",
    "movie_rating_tags = movie_rating_tags.rename(columns={\"userId_x\": \"userid\", \"timestamp_x\": \"timestamp\"})\n",
    "#Convert feature lowercase for uniformity\n",
    "movie_rating_tags.columns = movie_rating_tags.columns.str.strip().str.lower()\n"
   ]
  },
  {
   "cell_type": "markdown",
   "metadata": {},
   "source": [
    "### Save cleaned dataset to df"
   ]
  },
  {
   "cell_type": "code",
   "execution_count": 9,
   "metadata": {},
   "outputs": [],
   "source": [
    "#Making a copy of cleaned dataset and save as df\n",
    "df = movie_rating_tags.copy(deep=True)"
   ]
  },
  {
   "cell_type": "code",
   "execution_count": 10,
   "metadata": {},
   "outputs": [
    {
     "data": {
      "text/html": [
       "<div>\n",
       "<style scoped>\n",
       "    .dataframe tbody tr th:only-of-type {\n",
       "        vertical-align: middle;\n",
       "    }\n",
       "\n",
       "    .dataframe tbody tr th {\n",
       "        vertical-align: top;\n",
       "    }\n",
       "\n",
       "    .dataframe thead th {\n",
       "        text-align: right;\n",
       "    }\n",
       "</style>\n",
       "<table border=\"1\" class=\"dataframe\">\n",
       "  <thead>\n",
       "    <tr style=\"text-align: right;\">\n",
       "      <th></th>\n",
       "      <th>userid</th>\n",
       "      <th>movieid</th>\n",
       "      <th>rating</th>\n",
       "      <th>title</th>\n",
       "      <th>genres</th>\n",
       "      <th>tag</th>\n",
       "    </tr>\n",
       "  </thead>\n",
       "  <tbody>\n",
       "    <tr>\n",
       "      <th>0</th>\n",
       "      <td>1</td>\n",
       "      <td>1</td>\n",
       "      <td>4.0</td>\n",
       "      <td>Toy Story (1995)</td>\n",
       "      <td>Adventure|Animation|Children|Comedy|Fantasy</td>\n",
       "      <td>pixar</td>\n",
       "    </tr>\n",
       "    <tr>\n",
       "      <th>1</th>\n",
       "      <td>1</td>\n",
       "      <td>1</td>\n",
       "      <td>4.0</td>\n",
       "      <td>Toy Story (1995)</td>\n",
       "      <td>Adventure|Animation|Children|Comedy|Fantasy</td>\n",
       "      <td>pixar</td>\n",
       "    </tr>\n",
       "    <tr>\n",
       "      <th>2</th>\n",
       "      <td>1</td>\n",
       "      <td>1</td>\n",
       "      <td>4.0</td>\n",
       "      <td>Toy Story (1995)</td>\n",
       "      <td>Adventure|Animation|Children|Comedy|Fantasy</td>\n",
       "      <td>fun</td>\n",
       "    </tr>\n",
       "    <tr>\n",
       "      <th>3</th>\n",
       "      <td>5</td>\n",
       "      <td>1</td>\n",
       "      <td>4.0</td>\n",
       "      <td>Toy Story (1995)</td>\n",
       "      <td>Adventure|Animation|Children|Comedy|Fantasy</td>\n",
       "      <td>pixar</td>\n",
       "    </tr>\n",
       "    <tr>\n",
       "      <th>4</th>\n",
       "      <td>5</td>\n",
       "      <td>1</td>\n",
       "      <td>4.0</td>\n",
       "      <td>Toy Story (1995)</td>\n",
       "      <td>Adventure|Animation|Children|Comedy|Fantasy</td>\n",
       "      <td>pixar</td>\n",
       "    </tr>\n",
       "  </tbody>\n",
       "</table>\n",
       "</div>"
      ],
      "text/plain": [
       "   userid  movieid  rating             title  \\\n",
       "0       1        1     4.0  Toy Story (1995)   \n",
       "1       1        1     4.0  Toy Story (1995)   \n",
       "2       1        1     4.0  Toy Story (1995)   \n",
       "3       5        1     4.0  Toy Story (1995)   \n",
       "4       5        1     4.0  Toy Story (1995)   \n",
       "\n",
       "                                        genres    tag  \n",
       "0  Adventure|Animation|Children|Comedy|Fantasy  pixar  \n",
       "1  Adventure|Animation|Children|Comedy|Fantasy  pixar  \n",
       "2  Adventure|Animation|Children|Comedy|Fantasy    fun  \n",
       "3  Adventure|Animation|Children|Comedy|Fantasy  pixar  \n",
       "4  Adventure|Animation|Children|Comedy|Fantasy  pixar  "
      ]
     },
     "execution_count": 10,
     "metadata": {},
     "output_type": "execute_result"
    }
   ],
   "source": [
    "df.head()"
   ]
  },
  {
   "cell_type": "code",
   "execution_count": 11,
   "metadata": {},
   "outputs": [
    {
     "data": {
      "text/plain": [
       "Index(['userid', 'movieid', 'rating', 'title', 'genres', 'tag'], dtype='object')"
      ]
     },
     "execution_count": 11,
     "metadata": {},
     "output_type": "execute_result"
    }
   ],
   "source": [
    "df.columns"
   ]
  },
  {
   "cell_type": "markdown",
   "metadata": {},
   "source": [
    "# 5.0 Modelling\n",
    "\n",
    "Build a model that provides top 5 movie recommendations to a user, based on their ratings of other movies. This will be deployed to ...."
   ]
  },
  {
   "cell_type": "markdown",
   "metadata": {},
   "source": [
    "### Modelling packages"
   ]
  },
  {
   "cell_type": "code",
   "execution_count": 12,
   "metadata": {},
   "outputs": [],
   "source": [
    "#Modelling packages\n",
    "from sklearn.model_selection import train_test_split\n",
    "from sklearn.pipeline import Pipeline\n",
    "from sklearn.base import BaseEstimator, TransformerMixin\n",
    "from sklearn.metrics import mean_squared_error\n",
    "from sklearn.metrics.pairwise import cosine_similarity"
   ]
  },
  {
   "cell_type": "markdown",
   "metadata": {},
   "source": [
    "## 1. User-based Collaborative Filtering (user-user CF)\n",
    "\n",
    "\n",
    "This model recommends movies to a user based on the ...."
   ]
  },
  {
   "cell_type": "code",
   "execution_count": 13,
   "metadata": {},
   "outputs": [
    {
     "name": "stdout",
     "output_type": "stream",
     "text": [
      "       movieid                             title\n",
      "12388      296               Pulp Fiction (1994)\n",
      "68205      356               Forrest Gump (1994)\n",
      "71166      457              Fugitive, The (1993)\n",
      "74185      593  Silence of the Lambs, The (1991)\n",
      "114914     318  Shawshank Redemption, The (1994)\n"
     ]
    }
   ],
   "source": [
    "# Create a user-item matrix with users being rows and columns being movies\n",
    "user_movie_matrix = df.pivot_table(index='userid', columns='movieid', values='rating').fillna(0)\n",
    "\n",
    "# Compute similarity between users using cosine similarity\n",
    "user_similarity = cosine_similarity(user_movie_matrix)\n",
    "\n",
    "# Convert to a DataFrame for easier manipulation and visualization\n",
    "user_similarity_df = pd.DataFrame(user_similarity, index=user_movie_matrix.index, columns=user_movie_matrix.index)\n",
    "\n",
    "# Function to get recommendations for a user\n",
    "def user_user_cf_recommendations(user_id, user_movie_matrix, user_similarity, top_n=5):\n",
    "    # Ensure the user_id exists in the index\n",
    "    if user_id not in user_movie_matrix.index:\n",
    "        print(f\"User ID {user_id} not found in the user-item matrix.\")\n",
    "        return None\n",
    "\n",
    "    # Find the index of the user in the user_movie_matrix (account for 0-indexing)\n",
    "    user_idx = user_movie_matrix.index.get_loc(user_id)\n",
    "    \n",
    "    # Get the similarity scores for the specific user\n",
    "    similarity_scores = user_similarity[user_idx]\n",
    "\n",
    "    # Get movies rated by the user\n",
    "    rated_movies = user_movie_matrix.iloc[user_idx]\n",
    "    rated_movie_ids = rated_movies[rated_movies > 0].index.tolist()\n",
    "\n",
    "    # Predict ratings for all movies by multiplying similarity scores with user ratings\n",
    "    movie_scores = user_similarity[user_idx].dot(user_movie_matrix)\n",
    "    movie_scores = movie_scores / np.array([np.abs(user_similarity[user_idx]).sum()])  # Normalize the scores\n",
    "\n",
    "    # Set the scores for already rated movies to 0 (avoid recommending rated movies)\n",
    "    rated_movie_ids = [int(movie_id) for movie_id in rated_movie_ids]\n",
    "    movie_scores[rated_movie_ids] = 0  # Set the scores for rated movies to 0\n",
    "\n",
    "    # Get the top N movie recommendations (excluding already rated movies)\n",
    "    recommended_movie_indices = movie_scores.argsort()[-top_n:][::-1]\n",
    "    recommended_movie_ids = user_movie_matrix.columns[recommended_movie_indices].tolist()\n",
    "\n",
    "    # Ensure movie_id type consistency between recommended_movie_ids and movies_df['movieid']\n",
    "    recommended_movie_ids = [str(movie_id) for movie_id in recommended_movie_ids]  # Ensure IDs are strings if needed\n",
    "    df['movieid'] = df['movieid'].astype(str)  # Make sure 'movieid' is string type\n",
    "\n",
    "    # Remove duplicates from movies_df\n",
    "    clean_df = df.drop_duplicates(subset='movieid')\n",
    "\n",
    "    # Map movie IDs to titles\n",
    "    recommended_movies = clean_df[clean_df['movieid'].isin(recommended_movie_ids)][['movieid', 'title']]\n",
    "    \n",
    "    return recommended_movies\n",
    "\n",
    "# Example: Get top 5 recommendations for user 5\n",
    "user_id = 5\n",
    "top_5_movies = user_user_cf_recommendations(user_id, user_movie_matrix, user_similarity, top_n=5)\n",
    "print(top_5_movies)"
   ]
  },
  {
   "cell_type": "code",
   "execution_count": null,
   "metadata": {},
   "outputs": [],
   "source": []
  },
  {
   "cell_type": "markdown",
   "metadata": {},
   "source": [
    "## 2. Item-based Collaborative Filtering\n",
    "\n",
    "The model recommends a movie based on the similarity between movies."
   ]
  },
  {
   "cell_type": "code",
   "execution_count": 14,
   "metadata": {},
   "outputs": [],
   "source": [
    "# Compute item-item similarity matrix\n",
    "item_similarity = cosine_similarity(user_movie_matrix.T)  # Transpose to compare items\n",
    "item_similarity = pd.DataFrame(item_similarity, index=user_movie_matrix.columns, columns=user_movie_matrix.columns)"
   ]
  },
  {
   "cell_type": "code",
   "execution_count": 15,
   "metadata": {},
   "outputs": [
    {
     "name": "stdout",
     "output_type": "stream",
     "text": [
      "       movieid                                 title\n",
      "148731     161                   Crimson Tide (1995)\n",
      "149116     248                     Houseguest (1994)\n",
      "149336     279                      My Family (1995)\n",
      "155636     540                         Sliver (1993)\n",
      "233210    7023  Wedding Banquet, The (Xi yan) (1993)\n"
     ]
    }
   ],
   "source": [
    "def item_item_cf_recommendations(user_id, user_movie_matrix, item_similarity, top_n=5):\n",
    " \n",
    "    # Get the index of the user (adjusting for 0-indexing)\n",
    "    user_idx = user_id - 1\n",
    "\n",
    "    # Get the movies rated by the user\n",
    "    rated_movies = user_movie_matrix.iloc[user_idx]\n",
    "    rated_movie_ids = rated_movies[rated_movies > 0].index.tolist()\n",
    "\n",
    "    # Predict ratings for movies the user hasn't rated using item-item similarity\n",
    "    predicted_ratings = item_similarity.dot(user_movie_matrix.iloc[user_idx])  # Predicted ratings for all movies\n",
    "    predicted_ratings /= np.array(np.abs(item_similarity).sum(axis=1))  # Normalize the ratings by similarity\n",
    "\n",
    "    # Set the scores for already rated movies to 0 (exclude them from recommendations)\n",
    "    rated_movie_ids = np.array(rated_movie_ids, dtype=int)\n",
    "    predicted_ratings[rated_movie_ids] = 0  # Remove already rated movies\n",
    "\n",
    "    # Get top N movie recommendations\n",
    "    recommended_movie_indices = predicted_ratings.argsort()[-top_n:][::-1]  # Top N recommendations\n",
    "    recommended_movie_ids = user_movie_matrix.columns[recommended_movie_indices].tolist()\n",
    "\n",
    "    # Ensure movie_id type consistency between recommended_movie_ids and movies_df['movieid']\n",
    "    recommended_movie_ids = [str(movie_id) for movie_id in recommended_movie_ids]  # Ensure IDs are strings if needed\n",
    "    df['movieid'] = df['movieid'].astype(str)  # Make sure 'movieid' in df is string type\n",
    "\n",
    "    # Remove duplicates from movies_df\n",
    "    clean_df = df.drop_duplicates(subset='movieid')\n",
    "\n",
    "    # Map movie IDs to titles\n",
    "    recommended_movies = clean_df[clean_df['movieid'].isin(recommended_movie_ids)][['movieid', 'title']]\n",
    "\n",
    "    return recommended_movies\n",
    "\n",
    "# Example: Get top 5 recommendations for user 5 using item-item CF\n",
    "user_id = 5\n",
    "top_5_movies = item_item_cf_recommendations(user_id, user_movie_matrix, item_similarity, top_n=5)\n",
    "print(top_5_movies)"
   ]
  },
  {
   "cell_type": "code",
   "execution_count": null,
   "metadata": {},
   "outputs": [],
   "source": []
  },
  {
   "cell_type": "markdown",
   "metadata": {},
   "source": [
    "## 3. Matrix Factorization with Singular Value Decomposition (SVD)\n"
   ]
  },
  {
   "cell_type": "code",
   "execution_count": 16,
   "metadata": {},
   "outputs": [],
   "source": [
    "# import packages\n",
    "from surprise import SVD, Reader, Dataset\n",
    "from surprise.model_selection import train_test_split\n",
    "from surprise import accuracy,SVD"
   ]
  },
  {
   "cell_type": "code",
   "execution_count": 17,
   "metadata": {},
   "outputs": [
    {
     "name": "stdout",
     "output_type": "stream",
     "text": [
      "Top 5 Recommended Movies: \n",
      "        movieid                    title\n",
      "12388      296      Pulp Fiction (1994)\n",
      "72026      527  Schindler's List (1993)\n",
      "98727     2959        Fight Club (1999)\n",
      "125625  109487      Interstellar (2014)\n",
      "179775     858    Godfather, The (1972)\n"
     ]
    }
   ],
   "source": [
    "# Define the svd_recommendations function\n",
    "def svd_recommendations(user_id, svd_model, all_movie_ids, top_n=5):\n",
    "    # Predict ratings for all movies for the given user\n",
    "    predictions = [svd_model.predict(user_id, movie_id) for movie_id in all_movie_ids]\n",
    "    \n",
    "    # Sort predictions by estimated rating\n",
    "    sorted_predictions = sorted(predictions, key=lambda x: x.est, reverse=True)\n",
    "    \n",
    "    # Get top N recommended movie IDs\n",
    "    recommended_movie_ids = [prediction.iid for prediction in sorted_predictions[:top_n]]\n",
    "\n",
    "    # Remove duplicates from movies_df (optional if you're cleaning the movie list)\n",
    "    clean_df = df.drop_duplicates(subset='movieid')\n",
    "\n",
    "    # Map movie IDs to titles\n",
    "    svd_recommended_movies = clean_df[clean_df['movieid'].isin(recommended_movie_ids)][['movieid', 'title']]\n",
    "    \n",
    "    return svd_recommended_movies\n",
    "\n",
    "# Define the reader and load the data\n",
    "reader = Reader(rating_scale=(1, 5))  # Assuming ratings are between 1 and 5\n",
    "data = Dataset.load_from_df(df[['userid', 'movieid', 'rating']], reader)\n",
    "\n",
    "# Train an SVD model\n",
    "trainset = data.build_full_trainset()\n",
    "svd = SVD()\n",
    "svd.fit(trainset)\n",
    "\n",
    "# Get the list of all movie IDs\n",
    "all_movie_ids = df['movieid'].unique()\n",
    "\n",
    "# Get top 5 movie recommendations for a specific user (e.g., user 5)\n",
    "user_id = 5\n",
    "top_5_movies_svd = svd_recommendations(user_id, svd, all_movie_ids, top_n=5)\n",
    "\n",
    "# Display the top 5 recommendations\n",
    "print(\"Top 5 Recommended Movies: \\n\", top_5_movies_svd)"
   ]
  },
  {
   "cell_type": "code",
   "execution_count": null,
   "metadata": {},
   "outputs": [],
   "source": []
  },
  {
   "cell_type": "markdown",
   "metadata": {},
   "source": [
    "## 3. Alternating Least Squares (ALS)"
   ]
  },
  {
   "cell_type": "code",
   "execution_count": 18,
   "metadata": {},
   "outputs": [],
   "source": [
    "import implicit\n",
    "import numpy as np\n",
    "import scipy.sparse as sp\n",
    "from scipy.sparse import csr_matrix"
   ]
  },
  {
   "cell_type": "code",
   "execution_count": null,
   "metadata": {},
   "outputs": [],
   "source": []
  },
  {
   "cell_type": "code",
   "execution_count": 19,
   "metadata": {},
   "outputs": [],
   "source": [
    "user_item_matrix = df.pivot_table(index='userid', columns='movieid', values='rating').fillna(0)"
   ]
  },
  {
   "cell_type": "code",
   "execution_count": 20,
   "metadata": {},
   "outputs": [],
   "source": [
    "user_item_sparse = user_item_matrix.astype(np.float32).values\n",
    "user_item_sparse[user_item_sparse > 0] = 1  # Convert ratings to binary interaction"
   ]
  },
  {
   "cell_type": "code",
   "execution_count": 21,
   "metadata": {},
   "outputs": [],
   "source": [
    "user_item_sparse = sp.csr_matrix(user_item_sparse)"
   ]
  },
  {
   "cell_type": "code",
   "execution_count": 22,
   "metadata": {},
   "outputs": [
    {
     "name": "stderr",
     "output_type": "stream",
     "text": [
      "100%|██████████| 50/50 [00:00<00:00, 164.83it/s]\n"
     ]
    }
   ],
   "source": [
    "als_model = implicit.als.AlternatingLeastSquares(factors=50, regularization=0.1, iterations=50)\n",
    "als_model.fit(user_item_sparse)"
   ]
  },
  {
   "cell_type": "code",
   "execution_count": 23,
   "metadata": {},
   "outputs": [],
   "source": [
    "recommended_items = als_model.recommend(user_id, user_item_sparse[user_id], N=10)"
   ]
  },
  {
   "cell_type": "code",
   "execution_count": 24,
   "metadata": {},
   "outputs": [],
   "source": [
    "recommended_movie_indices = [int(item[0]) for item in recommended_items]\n",
    "movie_ids = user_item_matrix.columns.tolist()\n",
    "recommended_movie_ids = [movie_ids[idx] for idx in recommended_movie_indices]"
   ]
  },
  {
   "cell_type": "code",
   "execution_count": 25,
   "metadata": {},
   "outputs": [],
   "source": [
    "recommended_movie_ids = list(set(recommended_movie_ids))"
   ]
  },
  {
   "cell_type": "code",
   "execution_count": 26,
   "metadata": {},
   "outputs": [
    {
     "name": "stdout",
     "output_type": "stream",
     "text": [
      "Top 5 Recommended Movies for User 5:\n",
      "       movieid                                   title\n",
      "0            1                        Toy Story (1995)\n",
      "1            1                        Toy Story (1995)\n",
      "2            1                        Toy Story (1995)\n",
      "3            1                        Toy Story (1995)\n",
      "4            1                        Toy Story (1995)\n",
      "...        ...                                     ...\n",
      "208696     551  Nightmare Before Christmas, The (1993)\n",
      "208697     551  Nightmare Before Christmas, The (1993)\n",
      "208698     551  Nightmare Before Christmas, The (1993)\n",
      "208699     551  Nightmare Before Christmas, The (1993)\n",
      "208700     551  Nightmare Before Christmas, The (1993)\n",
      "\n",
      "[831 rows x 2 columns]\n"
     ]
    }
   ],
   "source": [
    "recommended_movie_titles = df[df['movieid'].isin(recommended_movie_ids)][['movieid', 'title']]\n",
    "print(\"Top 5 Recommended Movies for User {}:\".format(user_id))\n",
    "print(recommended_movie_titles)"
   ]
  },
  {
   "cell_type": "code",
   "execution_count": null,
   "metadata": {},
   "outputs": [],
   "source": []
  },
  {
   "cell_type": "code",
   "execution_count": 27,
   "metadata": {},
   "outputs": [
    {
     "name": "stderr",
     "output_type": "stream",
     "text": [
      "100%|██████████| 50/50 [00:00<00:00, 162.25it/s]"
     ]
    },
    {
     "name": "stdout",
     "output_type": "stream",
     "text": [
      "Top 5 Recommended Movies for User 5:\n",
      "       movieid                                   title\n",
      "0            1                        Toy Story (1995)\n",
      "208515     551  Nightmare Before Christmas, The (1993)\n"
     ]
    },
    {
     "name": "stderr",
     "output_type": "stream",
     "text": [
      "\n"
     ]
    }
   ],
   "source": [
    "# Convert the DataFrame to a binary interaction matrix (values > 0 set to 1)\n",
    "user_item_matrix = df.pivot_table(index='userid', columns='movieid', values='rating').fillna(0)\n",
    "user_item_sparse = user_item_matrix.astype(np.float32).values\n",
    "user_item_sparse[user_item_sparse > 0] = 1  # Convert ratings to binary interaction\n",
    "\n",
    "# Convert the dense matrix to a sparse CSR matrix\n",
    "user_item_sparse = sp.csr_matrix(user_item_sparse)\n",
    "\n",
    "# Train ALS model using the Implicit library\n",
    "als_model = implicit.als.AlternatingLeastSquares(factors=50, regularization=0.1, iterations=50)\n",
    "als_model.fit(user_item_sparse)\n",
    "\n",
    "# Example: Recommend 5 items for a given user (e.g., user 5)\n",
    "user_id = 5\n",
    "recommended_items = als_model.recommend(user_id, user_item_sparse[user_id], N=5)\n",
    "\n",
    "# Extract movie indices from the recommendations\n",
    "recommended_movie_indices = [int(item[0]) for item in recommended_items]  # Convert to integers\n",
    "\n",
    "# Get the movie IDs for the top recommended movies using .tolist() to convert Index to list\n",
    "movie_ids = user_item_matrix.columns.tolist()\n",
    "\n",
    "# Map the recommended movie indices to the actual movie IDs\n",
    "recommended_movie_ids = [movie_ids[idx] for idx in recommended_movie_indices]\n",
    "\n",
    "#Remove duplicates from movies_df (optional if you're cleaning the movie list)\n",
    "clean_df = df.drop_duplicates(subset='movieid')\n",
    "\n",
    "# # Remove duplicates from the recommended movie IDs\n",
    "# recommended_movie_ids = list(set(recommended_movie_ids))  # Use set to remove duplicates\n",
    "\n",
    "# Ensure we only return the top 5 recommendations\n",
    "recommended_movie_ids = recommended_movie_ids[:5]  # Take the top 5 unique movie IDs\n",
    "\n",
    "# Now, we get the movie titles from the original DataFrame\n",
    "recommended_movie_titles = clean_df[clean_df['movieid'].isin(recommended_movie_ids)][['movieid', 'title']]\n",
    "\n",
    "# Display the recommended movies\n",
    "print(\"Top 5 Recommended Movies for User {}:\".format(user_id))\n",
    "print(recommended_movie_titles)"
   ]
  },
  {
   "cell_type": "code",
   "execution_count": null,
   "metadata": {},
   "outputs": [],
   "source": []
  },
  {
   "cell_type": "code",
   "execution_count": null,
   "metadata": {},
   "outputs": [],
   "source": []
  },
  {
   "cell_type": "code",
   "execution_count": null,
   "metadata": {},
   "outputs": [],
   "source": []
  },
  {
   "cell_type": "code",
   "execution_count": 28,
   "metadata": {},
   "outputs": [
    {
     "name": "stderr",
     "output_type": "stream",
     "text": [
      "100%|██████████| 50/50 [00:00<00:00, 147.56it/s]"
     ]
    },
    {
     "name": "stdout",
     "output_type": "stream",
     "text": [
      "       movieid             title\n",
      "0            1  Toy Story (1995)\n",
      "1            1  Toy Story (1995)\n",
      "2            1  Toy Story (1995)\n",
      "3            1  Toy Story (1995)\n",
      "4            1  Toy Story (1995)\n",
      "...        ...               ...\n",
      "143522     300  Quiz Show (1994)\n",
      "143523     300  Quiz Show (1994)\n",
      "143524     300  Quiz Show (1994)\n",
      "143525     300  Quiz Show (1994)\n",
      "143526     300  Quiz Show (1994)\n",
      "\n",
      "[726 rows x 2 columns]\n"
     ]
    },
    {
     "name": "stderr",
     "output_type": "stream",
     "text": [
      "\n"
     ]
    }
   ],
   "source": [
    "# Convert the DataFrame to a binary interaction matrix (values > 0 set to 1)\n",
    "user_item_matrix = df.pivot_table(index='userid', columns='movieid', values='rating').fillna(0)\n",
    "user_item_sparse = user_item_matrix.astype(np.float32).values\n",
    "user_item_sparse[user_item_sparse > 0] = 1  # Convert ratings to binary interaction\n",
    "\n",
    "# Convert the dense matrix to a sparse CSR matrix\n",
    "user_item_sparse = sp.csr_matrix(user_item_sparse)\n",
    "\n",
    "# Train ALS model using the Implicit library\n",
    "als_model = implicit.als.AlternatingLeastSquares(factors=50, regularization=0.1, iterations=50)\n",
    "als_model.fit(user_item_sparse)\n",
    "\n",
    "# Example: Recommend 5 items for a given user (e.g., user 5)\n",
    "user_id = 5\n",
    "recommended_items = als_model.recommend(user_id, user_item_sparse[user_id], N=5)\n",
    "\n",
    "# Extract movie indices from the recommendations\n",
    "recommended_movie_indices = [int(item[0]) for item in recommended_items]  # Convert to integers\n",
    "\n",
    "# Get the movie IDs for the top recommended movies using .tolist() to convert Index to list\n",
    "movie_ids = user_item_matrix.columns.tolist()\n",
    "\n",
    "# Map the recommended movie indices to the actual movie IDs\n",
    "recommended_movie_ids = [movie_ids[idx] for idx in recommended_movie_indices]\n",
    "\n",
    "# Remove duplicates from the recommended movie IDs\n",
    "recommended_movie_ids = list(set(recommended_movie_ids))  # Use set to remove duplicates\n",
    "\n",
    "# Now, we get the movie titles from the original DataFrame\n",
    "recommended_movie_titles = df[df['movieid'].isin(recommended_movie_ids)][['movieid', 'title']]\n",
    "\n",
    "# Display the recommended movies\n",
    "print(recommended_movie_titles)"
   ]
  },
  {
   "cell_type": "code",
   "execution_count": null,
   "metadata": {},
   "outputs": [],
   "source": []
  },
  {
   "cell_type": "code",
   "execution_count": 29,
   "metadata": {},
   "outputs": [
    {
     "name": "stderr",
     "output_type": "stream",
     "text": [
      "100%|██████████| 50/50 [00:00<00:00, 131.55it/s]\n"
     ]
    },
    {
     "name": "stdout",
     "output_type": "stream",
     "text": [
      "Empty DataFrame\n",
      "Columns: [movieid, title]\n",
      "Index: []\n"
     ]
    }
   ],
   "source": [
    "# Convert the DataFrame to a binary interaction matrix (values > 0 set to 1)\n",
    "user_item_sparse = user_movie_matrix.astype(np.float32).values\n",
    "user_item_sparse[user_item_sparse > 0] = 1  # Convert ratings to binary interaction\n",
    "\n",
    "# Convert the dense matrix to a sparse CSR matrix\n",
    "user_item_sparse = sp.csr_matrix(user_item_sparse)\n",
    "\n",
    "# Train ALS model using implicit library\n",
    "als_model = implicit.als.AlternatingLeastSquares(factors=50, regularization=0.1, iterations=50)\n",
    "als_model.fit(user_item_sparse)\n",
    "\n",
    "# Example: Recommend 5 items for a given user (e.g., user 5)\n",
    "user_id = 5\n",
    "recommended_items = als_model.recommend(user_id, user_item_sparse[user_id], N=5)\n",
    "\n",
    "# Map the recommended movie IDs to their corresponding titles\n",
    "recommended_movie_ids = [item[0] for item in recommended_items]\n",
    "recommended_movie_titles = df[df['movieid'].isin(recommended_movie_ids)][['movieid', 'title']]\n",
    "\n",
    "# Display recommended movie titles\n",
    "print(recommended_movie_titles)"
   ]
  },
  {
   "cell_type": "code",
   "execution_count": null,
   "metadata": {},
   "outputs": [],
   "source": []
  },
  {
   "cell_type": "markdown",
   "metadata": {},
   "source": []
  }
 ],
 "metadata": {
  "kernelspec": {
   "display_name": "learn-env",
   "language": "python",
   "name": "python3"
  },
  "language_info": {
   "codemirror_mode": {
    "name": "ipython",
    "version": 3
   },
   "file_extension": ".py",
   "mimetype": "text/x-python",
   "name": "python",
   "nbconvert_exporter": "python",
   "pygments_lexer": "ipython3",
   "version": "3.8.5"
  }
 },
 "nbformat": 4,
 "nbformat_minor": 2
}
